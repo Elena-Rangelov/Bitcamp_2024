{
 "cells": [
  {
   "cell_type": "code",
   "execution_count": 2,
   "metadata": {},
   "outputs": [
    {
     "name": "stdout",
     "output_type": "stream",
     "text": [
      "[1.         0.         0.         0.         1.03       0.\n",
      " 1.17086854 1.01       1.02       0.        ]\n",
      "[6 4 8 7 0]\n"
     ]
    },
    {
     "name": "stderr",
     "output_type": "stream",
     "text": [
      "/opt/homebrew/lib/python3.11/site-packages/sklearn/metrics/pairwise.py:2182: DataConversionWarning: Data was converted to boolean for metric jaccard\n",
      "  warnings.warn(msg, DataConversionWarning)\n"
     ]
    },
    {
     "ename": "ModuleNotFoundError",
     "evalue": "No module named 'parser'",
     "output_type": "error",
     "traceback": [
      "\u001b[0;31m---------------------------------------------------------------------------\u001b[0m",
      "\u001b[0;31mModuleNotFoundError\u001b[0m                       Traceback (most recent call last)",
      "Cell \u001b[0;32mIn[2], line 2\u001b[0m\n\u001b[1;32m      1\u001b[0m \u001b[38;5;28;01mfrom\u001b[39;00m \u001b[38;5;21;01mtfidfmatcher\u001b[39;00m \u001b[38;5;28;01mimport\u001b[39;00m Matcher\n\u001b[0;32m----> 2\u001b[0m \u001b[38;5;28;01mfrom\u001b[39;00m \u001b[38;5;21;01mparser\u001b[39;00m \u001b[38;5;28;01mimport\u001b[39;00m Parser\n",
      "\u001b[0;31mModuleNotFoundError\u001b[0m: No module named 'parser'"
     ]
    }
   ],
   "source": [
    "from tfidfmatcher import Matcher\n",
    "from parser import Parser"
   ]
  },
  {
   "cell_type": "code",
   "execution_count": null,
   "metadata": {},
   "outputs": [],
   "source": [
    "skills = Parser.get_hard_skills_all_files(\"data/sample-resumes/\")"
   ]
  },
  {
   "cell_type": "code",
   "execution_count": null,
   "metadata": {},
   "outputs": [],
   "source": [
    "job_data = [\n",
    "    [\"software\", \"engineer\", \"machine\", \"learning\"],\n",
    "    [\"data\", \"analysts\", \"statistics\"],\n",
    "    [\"web\", \"developer\", \"javascript\", \"html\", \"css\"],\n",
    "    [\"cybersecurity\", \"analyst\", \"experience\", \"penetration\", \"testing\"],\n",
    "    [\"user\", \"experience\", \"designer\", \"research\", \"skills\"],\n",
    "    [\"natural\", \"language\", \"processing\", \"engineer\"],\n",
    "    [\"cloud\", \"architect\", \"aws\", \"azure\", \"gcp\", \"experience\", \"required\"],\n",
    "    [\"embedded\", \"systems\", \"engineer\", \"robotics\", \"control\", \"systems\"],\n",
    "    [\"database\", \"administrator\", \"sql\", \"nosql\", \"experience\", \"a plus\"],\n",
    "    [\"financial\", \"analyst\", \"data\", \"analysis\", \"finance\"],\n",
    "]\n",
    "matcher = Matcher()\n",
    "matcher.fit(skills, job_data)\n"
   ]
  },
  {
   "cell_type": "code",
   "execution_count": null,
   "metadata": {},
   "outputs": [
    {
     "name": "stdout",
     "output_type": "stream",
     "text": [
      "['education', 'science', 'management', 'information', 'system', 'system', 'troubleshooting', 'web', 'design', 'technical', 'customer', 'service', 'analytical', 'customer', 'technical', 'query', 'computer', 'system', 'software', 'hardware', 'query', 'troubleshooting', 'io', 'computer', 'maintain', 'computer', 'system', 'technical', 'network', 'network', 'network', 'hardware', 'management', 'server', 'technology', 'technology', 'technology', 'hardware', 'software', 'analysis', 'web', 'system', 'client', 'design', 'develop', 'mobile', 'tool', 'documentation', 'business', 'client', 'test', 'quality', 'customer', 'skill', 'tool', 'io', 'service', 'internet', 'computing', 'certification']\n",
      "[7 2 1 3 6]\n"
     ]
    },
    {
     "name": "stderr",
     "output_type": "stream",
     "text": [
      "/opt/homebrew/lib/python3.11/site-packages/sklearn/metrics/pairwise.py:2182: DataConversionWarning: Data was converted to boolean for metric jaccard\n",
      "  warnings.warn(msg, DataConversionWarning)\n"
     ]
    }
   ],
   "source": [
    "a = skills[3]\n",
    "print(a)\n",
    "print(matcher.predict(a))"
   ]
  }
 ],
 "metadata": {
  "kernelspec": {
   "display_name": "Python 3",
   "language": "python",
   "name": "python3"
  },
  "language_info": {
   "codemirror_mode": {
    "name": "ipython",
    "version": 3
   },
   "file_extension": ".py",
   "mimetype": "text/x-python",
   "name": "python",
   "nbconvert_exporter": "python",
   "pygments_lexer": "ipython3",
   "version": "3.11.8"
  }
 },
 "nbformat": 4,
 "nbformat_minor": 2
}
