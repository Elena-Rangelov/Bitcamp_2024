{
 "cells": [
  {
   "cell_type": "code",
   "execution_count": 1,
   "metadata": {},
   "outputs": [
    {
     "name": "stdout",
     "output_type": "stream",
     "text": [
      "Error reading PDF: [Errno 2] No such file or directory: 'resumes/INFORMATION-TECHNOLOGY/10089434.pdf'\n",
      "None\n"
     ]
    },
    {
     "name": "stderr",
     "output_type": "stream",
     "text": [
      "[nltk_data] Downloading package wordnet to\n",
      "[nltk_data]     /Users/srimanselvakumaran/nltk_data...\n",
      "[nltk_data]   Package wordnet is already up-to-date!\n",
      "[nltk_data] Downloading package punkt to\n",
      "[nltk_data]     /Users/srimanselvakumaran/nltk_data...\n",
      "[nltk_data]   Package punkt is already up-to-date!\n"
     ]
    }
   ],
   "source": [
    "from tfidfmatcher import Matcher\n",
    "from parser import Parser"
   ]
  },
  {
   "cell_type": "code",
   "execution_count": 2,
   "metadata": {},
   "outputs": [],
   "source": [
    "seta = [[\"1\", \"2\", \"3\", \"4\", \"5\", \"6\"],\n",
    "        [\"7\", \"8\", \"9\", \"10\", \"11\", \"12\"],\n",
    "        [\"13\", \"14\", \"15\", \"16\", \"17\", \"18\"],\n",
    "        [\"19\", \"20\", \"21\", \"22\", \"23\", \"24\"],\n",
    "        [\"25\", \"26\", \"27\", \"28\", \"29\", \"30\"],\n",
    "        [\"31\", \"32\", \"33\", \"34\", \"35\", \"36\"],\n",
    "        [\"37\", \"38\", \"39\", \"40\", \"41\", \"42\"],\n",
    "        [\"43\", \"44\", \"45\", \"46\", \"47\", \"48\"]]\n",
    "\n",
    "setb = [[\"1\", \"19\", \"10\", \"45\", \"5\", \"6\"],\n",
    "        [\"32\", \"8\", \"9\", \"13\", \"11\", \"4\"],\n",
    "        [\"22\", \"14\", \"40\", \"16\", \"17\", \"12\"],\n",
    "        [\"19\", \"20\", \"18\", \"26\", \"23\", \"43\"],\n",
    "        [\"25\", \"34\", \"27\", \"21\", \"44\", \"30\"],\n",
    "        [\"28\", \"32\", \"33\", \"40\", \"35\", \"8\"],\n",
    "        [\"13\", \"38\", \"31\", \"44\", \"41\", \"42\"],\n",
    "        [\"43\", \"3\", \"39\", \"46\", \"27\", \"48\"]]"
   ]
  },
  {
   "cell_type": "code",
   "execution_count": 3,
   "metadata": {},
   "outputs": [],
   "source": [
    "matcher = Matcher()\n",
    "matcher.fit(seta, setb)"
   ]
  },
  {
   "cell_type": "code",
   "execution_count": 4,
   "metadata": {},
   "outputs": [
    {
     "name": "stdout",
     "output_type": "stream",
     "text": [
      "[1.         0.         0.         0.16666667 0.         0.\n",
      " 0.         0.        ]\n",
      "[0.         1.         0.         0.         0.         0.33333333\n",
      " 0.16666667 0.        ]\n",
      "[0.         0.         1.         0.         0.         0.16666667\n",
      " 0.         0.        ]\n",
      "[0.         0.         0.         0.83333333 0.16666667 0.\n",
      " 0.         0.16666667]\n",
      "[0.         0.         0.         0.         0.83333333 0.16666667\n",
      " 0.16666667 0.16666667]\n",
      "[0.         0.         0.         0.         0.         0.33333333\n",
      " 0.66666667 0.        ]\n",
      "[0.         0.         0.         0.         0.         0.\n",
      " 0.         0.66666667]\n",
      "[0. 0. 0. 0. 0. 0. 0. 0.]\n"
     ]
    }
   ],
   "source": [
    "import numpy as np\n",
    "for a in seta:\n",
    "  corp = matcher.student_dict.doc2bow(a)\n",
    "  print(matcher.X @ Matcher.to_vec(matcher.student_model, corp, matcher.num_words).reshape(-1))"
   ]
  },
  {
   "cell_type": "code",
   "execution_count": 5,
   "metadata": {},
   "outputs": [
    {
     "name": "stdout",
     "output_type": "stream",
     "text": [
      "[0 3 6 4 2]\n",
      "[1 5 6 3 0]\n",
      "[2 5 3 6 0]\n",
      "[3 4 7 6 5]\n",
      "[4 7 6 5 0]\n",
      "[6 5 3 0 4]\n",
      "[7 5 6 0 4]\n",
      "[5 3 6 0 4]\n"
     ]
    },
    {
     "name": "stderr",
     "output_type": "stream",
     "text": [
      "/opt/homebrew/lib/python3.11/site-packages/sklearn/metrics/pairwise.py:2182: DataConversionWarning: Data was converted to boolean for metric jaccard\n",
      "  warnings.warn(msg, DataConversionWarning)\n",
      "/opt/homebrew/lib/python3.11/site-packages/sklearn/metrics/pairwise.py:2182: DataConversionWarning: Data was converted to boolean for metric jaccard\n",
      "  warnings.warn(msg, DataConversionWarning)\n",
      "/opt/homebrew/lib/python3.11/site-packages/sklearn/metrics/pairwise.py:2182: DataConversionWarning: Data was converted to boolean for metric jaccard\n",
      "  warnings.warn(msg, DataConversionWarning)\n",
      "/opt/homebrew/lib/python3.11/site-packages/sklearn/metrics/pairwise.py:2182: DataConversionWarning: Data was converted to boolean for metric jaccard\n",
      "  warnings.warn(msg, DataConversionWarning)\n",
      "/opt/homebrew/lib/python3.11/site-packages/sklearn/metrics/pairwise.py:2182: DataConversionWarning: Data was converted to boolean for metric jaccard\n",
      "  warnings.warn(msg, DataConversionWarning)\n",
      "/opt/homebrew/lib/python3.11/site-packages/sklearn/metrics/pairwise.py:2182: DataConversionWarning: Data was converted to boolean for metric jaccard\n",
      "  warnings.warn(msg, DataConversionWarning)\n",
      "/opt/homebrew/lib/python3.11/site-packages/sklearn/metrics/pairwise.py:2182: DataConversionWarning: Data was converted to boolean for metric jaccard\n",
      "  warnings.warn(msg, DataConversionWarning)\n",
      "/opt/homebrew/lib/python3.11/site-packages/sklearn/metrics/pairwise.py:2182: DataConversionWarning: Data was converted to boolean for metric jaccard\n",
      "  warnings.warn(msg, DataConversionWarning)\n"
     ]
    }
   ],
   "source": [
    "for a in seta:\n",
    "  print(matcher.predict(a))"
   ]
  }
 ],
 "metadata": {
  "kernelspec": {
   "display_name": "Python 3",
   "language": "python",
   "name": "python3"
  },
  "language_info": {
   "codemirror_mode": {
    "name": "ipython",
    "version": 3
   },
   "file_extension": ".py",
   "mimetype": "text/x-python",
   "name": "python",
   "nbconvert_exporter": "python",
   "pygments_lexer": "ipython3",
   "version": "3.11.8"
  }
 },
 "nbformat": 4,
 "nbformat_minor": 2
}
