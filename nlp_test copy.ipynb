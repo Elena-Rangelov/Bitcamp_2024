{
 "cells": [
  {
   "cell_type": "code",
   "execution_count": 53,
   "metadata": {},
   "outputs": [],
   "source": [
    "from matcher.tfidfmatcher import Matcher\n",
    "from parser.parser import Parser"
   ]
  },
  {
   "cell_type": "code",
   "execution_count": 54,
   "metadata": {},
   "outputs": [],
   "source": [
    "seta = [[\"1\", \"2\", \"3\", \"4\", \"5\", \"6\"],\n",
    "        [\"7\", \"8\", \"9\", \"10\", \"11\", \"12\"],\n",
    "        [\"13\", \"14\", \"15\", \"16\", \"17\", \"18\"],\n",
    "        [\"19\", \"20\", \"21\", \"22\", \"23\", \"24\"],\n",
    "        [\"25\", \"26\", \"27\", \"28\", \"29\", \"30\"],\n",
    "        [\"31\", \"32\", \"33\", \"34\", \"35\", \"36\"],\n",
    "        [\"37\", \"38\", \"39\", \"40\", \"41\", \"42\"],\n",
    "        [\"43\", \"44\", \"45\", \"46\", \"47\", \"48\"]]\n",
    "\n",
    "setb = [[\"1\", \"19\", \"10\", \"45\", \"5\", \"6\"],\n",
    "        [\"32\", \"8\", \"9\", \"13\", \"11\", \"4\"],\n",
    "        [\"22\", \"14\", \"40\", \"16\", \"17\", \"12\"],\n",
    "        [\"19\", \"20\", \"18\", \"26\", \"23\", \"43\"],\n",
    "        [\"25\", \"34\", \"27\", \"21\", \"44\", \"30\"],\n",
    "        [\"28\", \"32\", \"33\", \"40\", \"35\", \"8\"],\n",
    "        [\"13\", \"38\", \"31\", \"44\", \"41\", \"42\"],\n",
    "        [\"43\", \"3\", \"39\", \"46\", \"27\", \"48\"]]"
   ]
  },
  {
   "cell_type": "code",
   "execution_count": 55,
   "metadata": {},
   "outputs": [],
   "source": [
    "matcher = Matcher()\n",
    "matcher.fit(seta, setb)"
   ]
  },
  {
   "cell_type": "code",
   "execution_count": 56,
   "metadata": {},
   "outputs": [
    {
     "name": "stdout",
     "output_type": "stream",
     "text": [
      "[0 1 3 6 5 2 4 7]\n",
      "[1 5 2 0 6 3 4 7]\n",
      "[2 5 3 7 1 0 4 6]\n",
      "[3 7 5 4 2 0 1 6]\n",
      "[4 3 6 5 0 1 2 7]\n",
      "[6 5 1 7 4 0 2 3]\n",
      "[5 7 2 6 0 1 3 4]\n",
      "[4 3 0 7 6 1 2 5]\n"
     ]
    },
    {
     "name": "stderr",
     "output_type": "stream",
     "text": [
      "/opt/homebrew/lib/python3.11/site-packages/sklearn/metrics/pairwise.py:2182: DataConversionWarning: Data was converted to boolean for metric jaccard\n",
      "  warnings.warn(msg, DataConversionWarning)\n",
      "/opt/homebrew/lib/python3.11/site-packages/sklearn/metrics/pairwise.py:2182: DataConversionWarning: Data was converted to boolean for metric jaccard\n",
      "  warnings.warn(msg, DataConversionWarning)\n",
      "/opt/homebrew/lib/python3.11/site-packages/sklearn/metrics/pairwise.py:2182: DataConversionWarning: Data was converted to boolean for metric jaccard\n",
      "  warnings.warn(msg, DataConversionWarning)\n",
      "/opt/homebrew/lib/python3.11/site-packages/sklearn/metrics/pairwise.py:2182: DataConversionWarning: Data was converted to boolean for metric jaccard\n",
      "  warnings.warn(msg, DataConversionWarning)\n",
      "/opt/homebrew/lib/python3.11/site-packages/sklearn/metrics/pairwise.py:2182: DataConversionWarning: Data was converted to boolean for metric jaccard\n",
      "  warnings.warn(msg, DataConversionWarning)\n",
      "/opt/homebrew/lib/python3.11/site-packages/sklearn/metrics/pairwise.py:2182: DataConversionWarning: Data was converted to boolean for metric jaccard\n",
      "  warnings.warn(msg, DataConversionWarning)\n",
      "/opt/homebrew/lib/python3.11/site-packages/sklearn/metrics/pairwise.py:2182: DataConversionWarning: Data was converted to boolean for metric jaccard\n",
      "  warnings.warn(msg, DataConversionWarning)\n",
      "/opt/homebrew/lib/python3.11/site-packages/sklearn/metrics/pairwise.py:2182: DataConversionWarning: Data was converted to boolean for metric jaccard\n",
      "  warnings.warn(msg, DataConversionWarning)\n"
     ]
    }
   ],
   "source": [
    "for a in setb:\n",
    "  print(matcher.predict(a))"
   ]
  }
 ],
 "metadata": {
  "kernelspec": {
   "display_name": "Python 3",
   "language": "python",
   "name": "python3"
  },
  "language_info": {
   "codemirror_mode": {
    "name": "ipython",
    "version": 3
   },
   "file_extension": ".py",
   "mimetype": "text/x-python",
   "name": "python",
   "nbconvert_exporter": "python",
   "pygments_lexer": "ipython3",
   "version": "3.11.8"
  }
 },
 "nbformat": 4,
 "nbformat_minor": 2
}
