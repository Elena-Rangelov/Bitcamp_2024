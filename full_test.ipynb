{
 "cells": [
  {
   "cell_type": "code",
   "execution_count": 1,
   "metadata": {},
   "outputs": [
    {
     "name": "stderr",
     "output_type": "stream",
     "text": [
      "[nltk_data] Downloading package wordnet to\n",
      "[nltk_data]     /Users/srimanselvakumaran/nltk_data...\n",
      "[nltk_data]   Package wordnet is already up-to-date!\n",
      "[nltk_data] Downloading package punkt to\n",
      "[nltk_data]     /Users/srimanselvakumaran/nltk_data...\n",
      "[nltk_data]   Package punkt is already up-to-date!\n"
     ]
    }
   ],
   "source": [
    "from matcher.tfidfmatcher import Matcher\n",
    "from parser.parser import Parser\n",
    "import numpy as np\n",
    "import json"
   ]
  },
  {
   "cell_type": "code",
   "execution_count": 2,
   "metadata": {},
   "outputs": [],
   "source": [
    "student_data = json.load(open(\"data/student-data.json\"))['students']\n",
    "job_data = json.load(open(\"data/job-data.json\"))['jobs']"
   ]
  },
  {
   "cell_type": "code",
   "execution_count": 3,
   "metadata": {},
   "outputs": [],
   "source": [
    "def get_job_strings(jobs):\n",
    "  return [f'{job[\"company_description\"]}  {job[\"job_description\"]} {job[\"keywords\"]}' for job in jobs]"
   ]
  },
  {
   "cell_type": "code",
   "execution_count": null,
   "metadata": {},
   "outputs": [],
   "source": [
    "job_strs = [Parser.parse_hard_skills(str) for str in get_job_strings(job_data)]"
   ]
  },
  {
   "cell_type": "code",
   "execution_count": null,
   "metadata": {},
   "outputs": [],
   "source": [
    "for student in student_data:\n",
    "  "
   ]
  },
  {
   "cell_type": "code",
   "execution_count": 10,
   "metadata": {},
   "outputs": [],
   "source": [
    "samples = Parser.get_hard_skills_all_files(\"data/sample-resumes/\")"
   ]
  },
  {
   "cell_type": "code",
   "execution_count": 11,
   "metadata": {},
   "outputs": [],
   "source": [
    "real = Parser.get_hard_skills_all_files(\"data/resumes/\")"
   ]
  },
  {
   "cell_type": "code",
   "execution_count": null,
   "metadata": {},
   "outputs": [],
   "source": [
    "matcher = Matcher()\n",
    "matcher.fit(samples + real, job_data)\n"
   ]
  },
  {
   "cell_type": "code",
   "execution_count": null,
   "metadata": {},
   "outputs": [
    {
     "name": "stdout",
     "output_type": "stream",
     "text": [
      "['education', 'science', 'management', 'information', 'system', 'system', 'troubleshooting', 'web', 'design', 'technical', 'customer', 'service', 'analytical', 'customer', 'technical', 'query', 'computer', 'system', 'software', 'hardware', 'query', 'troubleshooting', 'io', 'computer', 'maintain', 'computer', 'system', 'technical', 'network', 'network', 'network', 'hardware', 'management', 'server', 'technology', 'technology', 'technology', 'hardware', 'software', 'analysis', 'web', 'system', 'client', 'design', 'develop', 'mobile', 'tool', 'documentation', 'business', 'client', 'test', 'quality', 'customer', 'skill', 'tool', 'io', 'service', 'internet', 'computing', 'certification']\n",
      "[7 2 1 3 6]\n"
     ]
    },
    {
     "name": "stderr",
     "output_type": "stream",
     "text": [
      "/opt/homebrew/lib/python3.11/site-packages/sklearn/metrics/pairwise.py:2182: DataConversionWarning: Data was converted to boolean for metric jaccard\n",
      "  warnings.warn(msg, DataConversionWarning)\n"
     ]
    }
   ],
   "source": [
    "a = skills[3]\n",
    "print(a)\n",
    "print(matcher.predict(a))"
   ]
  }
 ],
 "metadata": {
  "kernelspec": {
   "display_name": "Python 3",
   "language": "python",
   "name": "python3"
  },
  "language_info": {
   "codemirror_mode": {
    "name": "ipython",
    "version": 3
   },
   "file_extension": ".py",
   "mimetype": "text/x-python",
   "name": "python",
   "nbconvert_exporter": "python",
   "pygments_lexer": "ipython3",
   "version": "3.11.8"
  }
 },
 "nbformat": 4,
 "nbformat_minor": 2
}
