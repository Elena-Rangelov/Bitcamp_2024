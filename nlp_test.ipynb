{
 "cells": [
  {
   "cell_type": "code",
   "execution_count": 15,
   "metadata": {},
   "outputs": [],
   "source": [
    "from matcher.tfidfmatcher import Matcher\n",
    "from parser.parser import Parser"
   ]
  },
  {
   "cell_type": "code",
   "execution_count": 16,
   "metadata": {},
   "outputs": [],
   "source": [
    "skills = Parser.get_hard_skills_all_files()"
   ]
  },
  {
   "cell_type": "code",
   "execution_count": 17,
   "metadata": {},
   "outputs": [],
   "source": [
    "job_data = [\n",
    "    [\"software\", \"engineer\", \"machine\", \"learning\"],\n",
    "    [\"data\", \"analysts\", \"statistics\"],\n",
    "    [\"web\", \"developer\", \"javascript\", \"html\", \"css\"],\n",
    "    [\"cybersecurity\", \"analyst\", \"experience\", \"penetration\", \"testing\"],\n",
    "    [\"user\", \"experience\", \"designer\", \"research\", \"skills\"],\n",
    "    [\"natural\", \"language\", \"processing\", \"engineer\"],\n",
    "    [\"cloud\", \"architect\", \"aws\", \"azure\", \"gcp\", \"experience\", \"required\"],\n",
    "    [\"embedded\", \"systems\", \"engineer\", \"robotics\", \"control\", \"systems\"],\n",
    "    [\"database\", \"administrator\", \"sql\", \"nosql\", \"experience\", \"a plus\"],\n",
    "    [\"financial\", \"analyst\", \"data\", \"analysis\", \"finance\"],\n",
    "]\n",
    "matcher = Matcher()\n",
    "matcher.fit(skills, job_data)\n"
   ]
  },
  {
   "cell_type": "code",
   "execution_count": 28,
   "metadata": {},
   "outputs": [
    {
     "name": "stdout",
     "output_type": "stream",
     "text": [
      "['skill', 'communication', 'skill', 'office', 'information', 'technology', 'system', 'information', 'use', 'vendor', 'office', 'based', 'communication', 'program', 'use', 'computer', 'capital', 'distributed', 'office', 'office', 'office', 'vendor', 'service', 'distributed', 'vendor', 'office', 'planning', 'office', 'business', 'information', 'use', 'computer', 'distributed', 'office', 'office', 'office', 'vendor', 'service', 'distributed', 'vendor', 'customer', 'service', 'communication', 'office', 'vendor', 'office', 'data', 'use', 'computer', 'system', 'information', 'education', 'skill', 'customer', 'service', 'customer', 'service', 'data', 'data', 'information', 'technology', 'excel', 'office', 'microsoft', 'information']\n",
      "(array([[0.4238747 , 0.6909059 , 0.87970205, 0.90083194, 0.94859305]]), array([[8, 9, 4, 1, 0]]))\n"
     ]
    }
   ],
   "source": [
    "a = skills[1]\n",
    "print(a)\n",
    "print(matcher.predict(a))"
   ]
  }
 ],
 "metadata": {
  "kernelspec": {
   "display_name": "Python 3",
   "language": "python",
   "name": "python3"
  },
  "language_info": {
   "codemirror_mode": {
    "name": "ipython",
    "version": 3
   },
   "file_extension": ".py",
   "mimetype": "text/x-python",
   "name": "python",
   "nbconvert_exporter": "python",
   "pygments_lexer": "ipython3",
   "version": "3.11.8"
  }
 },
 "nbformat": 4,
 "nbformat_minor": 2
}
